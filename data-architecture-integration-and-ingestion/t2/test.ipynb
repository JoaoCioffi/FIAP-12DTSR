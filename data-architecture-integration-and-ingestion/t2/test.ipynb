{
 "cells": [
  {
   "cell_type": "code",
   "execution_count": 5,
   "id": "83b32d3f",
   "metadata": {},
   "outputs": [],
   "source": [
    "import pandas as pd"
   ]
  },
  {
   "cell_type": "code",
   "execution_count": 54,
   "id": "9b2b4fe7",
   "metadata": {},
   "outputs": [],
   "source": [
    "FILES_PATH = {\n",
    "    # Path dos arquivos (.csv) a serem carregados para dentro dos bancos -- modificar se necessário\n",
    "    \"original_db\":{\n",
    "        \"info\":\"base de dados original (arquivos .csv criados para raw data)\",\n",
    "        \"customers\":\"./data/clientes.csv\",\n",
    "        \"products\":\"./data/produtos.csv\",\n",
    "        \"orders\":\"./data/pedidos.csv\"\n",
    "    },\n",
    "    \"imported_db\":{\n",
    "        \"info\":\"base de dados importada do concorrente (arquivos .csv criados para imported data)\",\n",
    "        \"products\":\"./data/produtos_concorrente.csv\",\n",
    "        \"customers\":\"./data/clientes_concorrente.csv\"\n",
    "    }\n",
    "}\n",
    "\n",
    "df_clientes=pd.read_csv(FILES_PATH[\"original_db\"][\"customers\"])\n",
    "df_produtos=pd.read_csv(FILES_PATH[\"original_db\"][\"products\"])\n",
    "df_pedidos=pd.read_csv(FILES_PATH[\"original_db\"][\"orders\"])\n",
    "df_clientes_concorrente=pd.read_csv(FILES_PATH[\"imported_db\"][\"customers\"])\n",
    "df_produtos_concorrente=pd.read_csv(FILES_PATH[\"imported_db\"][\"products\"])"
   ]
  },
  {
   "cell_type": "code",
   "execution_count": null,
   "id": "e79ea5db",
   "metadata": {},
   "outputs": [
    {
     "data": {
      "text/plain": [
       "('cpf', 'nome', 'endereco', 'cep', 'email', 'telefones')"
      ]
     },
     "execution_count": 70,
     "metadata": {},
     "output_type": "execute_result"
    }
   ],
   "source": []
  },
  {
   "cell_type": "code",
   "execution_count": 66,
   "id": "b2573d99",
   "metadata": {},
   "outputs": [
    {
     "data": {
      "text/html": [
       "<div>\n",
       "<style scoped>\n",
       "    .dataframe tbody tr th:only-of-type {\n",
       "        vertical-align: middle;\n",
       "    }\n",
       "\n",
       "    .dataframe tbody tr th {\n",
       "        vertical-align: top;\n",
       "    }\n",
       "\n",
       "    .dataframe thead th {\n",
       "        text-align: right;\n",
       "    }\n",
       "</style>\n",
       "<table border=\"1\" class=\"dataframe\">\n",
       "  <thead>\n",
       "    <tr style=\"text-align: right;\">\n",
       "      <th></th>\n",
       "      <th>cpf</th>\n",
       "      <th>nome</th>\n",
       "      <th>endereco</th>\n",
       "      <th>cep</th>\n",
       "      <th>email</th>\n",
       "      <th>telefones</th>\n",
       "    </tr>\n",
       "  </thead>\n",
       "  <tbody>\n",
       "    <tr>\n",
       "      <th>0</th>\n",
       "      <td>123.456.789-01</td>\n",
       "      <td>João Silva</td>\n",
       "      <td>Rua das Palmeiras</td>\n",
       "      <td>12345-678</td>\n",
       "      <td>joao.silva@email.com</td>\n",
       "      <td>(11) 98765-4321</td>\n",
       "    </tr>\n",
       "    <tr>\n",
       "      <th>1</th>\n",
       "      <td>987.654.321-00</td>\n",
       "      <td>Ana Costa</td>\n",
       "      <td>Avenida Paulista</td>\n",
       "      <td>45678-910</td>\n",
       "      <td>ana.costa@email.com</td>\n",
       "      <td>(11) 91234-5678</td>\n",
       "    </tr>\n",
       "    <tr>\n",
       "      <th>2</th>\n",
       "      <td>456.789.123-45</td>\n",
       "      <td>Pedro Souza</td>\n",
       "      <td>Rua João Pessoa</td>\n",
       "      <td>78901-234</td>\n",
       "      <td>pedro.souza@email.com</td>\n",
       "      <td>(21) 99123-4567</td>\n",
       "    </tr>\n",
       "    <tr>\n",
       "      <th>3</th>\n",
       "      <td>321.654.987-12</td>\n",
       "      <td>Mariana Lima</td>\n",
       "      <td>Rua das Acácias</td>\n",
       "      <td>23456-789</td>\n",
       "      <td>mariana.lima@email.com</td>\n",
       "      <td>(21) 98876-5432</td>\n",
       "    </tr>\n",
       "    <tr>\n",
       "      <th>4</th>\n",
       "      <td>654.987.321-00</td>\n",
       "      <td>Lucas Almeida</td>\n",
       "      <td>Rua 15 de Novembro</td>\n",
       "      <td>34567-890</td>\n",
       "      <td>lucas.almeida@email.com</td>\n",
       "      <td>(31) 99111-2233</td>\n",
       "    </tr>\n",
       "    <tr>\n",
       "      <th>5</th>\n",
       "      <td>213.546.879-11</td>\n",
       "      <td>Fernanda Oliveira</td>\n",
       "      <td>Av. Brasil</td>\n",
       "      <td>98765-432</td>\n",
       "      <td>fernanda.oliveira@email.com</td>\n",
       "      <td>(31) 99887-4455</td>\n",
       "    </tr>\n",
       "    <tr>\n",
       "      <th>6</th>\n",
       "      <td>543.216.987-32</td>\n",
       "      <td>Carlos Pereira</td>\n",
       "      <td>Rua do Sol</td>\n",
       "      <td>65432-123</td>\n",
       "      <td>carlos.pereira@email.com</td>\n",
       "      <td>(41) 99333-2244</td>\n",
       "    </tr>\n",
       "    <tr>\n",
       "      <th>7</th>\n",
       "      <td>876.543.210-65</td>\n",
       "      <td>Julia Martins</td>\n",
       "      <td>Rua da Paz</td>\n",
       "      <td>12345-678</td>\n",
       "      <td>julia.martins@email.com</td>\n",
       "      <td>(41) 98877-5566</td>\n",
       "    </tr>\n",
       "    <tr>\n",
       "      <th>8</th>\n",
       "      <td>234.567.891-23</td>\n",
       "      <td>Roberto Costa</td>\n",
       "      <td>Rua Rio Branco</td>\n",
       "      <td>87654-321</td>\n",
       "      <td>roberto.costa@email.com</td>\n",
       "      <td>(51) 99222-3344</td>\n",
       "    </tr>\n",
       "    <tr>\n",
       "      <th>9</th>\n",
       "      <td>678.901.234-56</td>\n",
       "      <td>Renata Santos</td>\n",
       "      <td>Av. Ipiranga</td>\n",
       "      <td>56789-012</td>\n",
       "      <td>renata.santos@email.com</td>\n",
       "      <td>(51) 99666-7788</td>\n",
       "    </tr>\n",
       "  </tbody>\n",
       "</table>\n",
       "</div>"
      ],
      "text/plain": [
       "              cpf               nome            endereco        cep  \\\n",
       "0  123.456.789-01         João Silva   Rua das Palmeiras  12345-678   \n",
       "1  987.654.321-00          Ana Costa    Avenida Paulista  45678-910   \n",
       "2  456.789.123-45        Pedro Souza     Rua João Pessoa  78901-234   \n",
       "3  321.654.987-12       Mariana Lima     Rua das Acácias  23456-789   \n",
       "4  654.987.321-00      Lucas Almeida  Rua 15 de Novembro  34567-890   \n",
       "5  213.546.879-11  Fernanda Oliveira          Av. Brasil  98765-432   \n",
       "6  543.216.987-32     Carlos Pereira          Rua do Sol  65432-123   \n",
       "7  876.543.210-65      Julia Martins          Rua da Paz  12345-678   \n",
       "8  234.567.891-23      Roberto Costa      Rua Rio Branco  87654-321   \n",
       "9  678.901.234-56      Renata Santos        Av. Ipiranga  56789-012   \n",
       "\n",
       "                         email        telefones  \n",
       "0         joao.silva@email.com  (11) 98765-4321  \n",
       "1          ana.costa@email.com  (11) 91234-5678  \n",
       "2        pedro.souza@email.com  (21) 99123-4567  \n",
       "3       mariana.lima@email.com  (21) 98876-5432  \n",
       "4      lucas.almeida@email.com  (31) 99111-2233  \n",
       "5  fernanda.oliveira@email.com  (31) 99887-4455  \n",
       "6     carlos.pereira@email.com  (41) 99333-2244  \n",
       "7      julia.martins@email.com  (41) 98877-5566  \n",
       "8      roberto.costa@email.com  (51) 99222-3344  \n",
       "9      renata.santos@email.com  (51) 99666-7788  "
      ]
     },
     "execution_count": 66,
     "metadata": {},
     "output_type": "execute_result"
    }
   ],
   "source": [
    "df_clientes"
   ]
  },
  {
   "cell_type": "code",
   "execution_count": 33,
   "id": "537b1e64",
   "metadata": {},
   "outputs": [
    {
     "data": {
      "text/plain": [
       "(10, 6)"
      ]
     },
     "execution_count": 33,
     "metadata": {},
     "output_type": "execute_result"
    }
   ],
   "source": [
    "df_clientes.shape"
   ]
  },
  {
   "cell_type": "code",
   "execution_count": 34,
   "id": "84ea9a59",
   "metadata": {},
   "outputs": [
    {
     "data": {
      "text/plain": [
       "cpf               987.654.321-00\n",
       "nome                   Ana Costa\n",
       "endereco        Avenida Paulista\n",
       "cep                    45678-910\n",
       "email        ana.costa@email.com\n",
       "telefones        (11) 91234-5678\n",
       "Name: 1, dtype: string"
      ]
     },
     "execution_count": 34,
     "metadata": {},
     "output_type": "execute_result"
    }
   ],
   "source": [
    "df_clientes.iloc[1]"
   ]
  },
  {
   "cell_type": "code",
   "execution_count": 36,
   "id": "159400d8",
   "metadata": {},
   "outputs": [
    {
     "data": {
      "text/plain": [
       "<StringArray>\n",
       "[     '987.654.321-00',           'Ana Costa',    'Avenida Paulista',\n",
       "           '45678-910', 'ana.costa@email.com',     '(11) 91234-5678']\n",
       "Length: 6, dtype: string"
      ]
     },
     "execution_count": 36,
     "metadata": {},
     "output_type": "execute_result"
    }
   ],
   "source": [
    "df_clientes.iloc[1].values"
   ]
  },
  {
   "cell_type": "code",
   "execution_count": 37,
   "id": "8e9cb36c",
   "metadata": {},
   "outputs": [
    {
     "data": {
      "text/plain": [
       "('987.654.321-00',\n",
       " 'Ana Costa',\n",
       " 'Avenida Paulista',\n",
       " '45678-910',\n",
       " 'ana.costa@email.com',\n",
       " '(11) 91234-5678')"
      ]
     },
     "execution_count": 37,
     "metadata": {},
     "output_type": "execute_result"
    }
   ],
   "source": [
    "tuple(df_clientes.iloc[1].values)"
   ]
  },
  {
   "cell_type": "code",
   "execution_count": 38,
   "id": "278fa659",
   "metadata": {},
   "outputs": [
    {
     "name": "stdout",
     "output_type": "stream",
     "text": [
      "\n",
      "    INSERT INTO Clientes (cliente_id, cpf, nome, endereco, cep, email, telefones) VALUES\n",
      "    ('123.456.789-01', 'João Silva', 'Rua das Palmeiras', '12345-678', 'joao.silva@email.com', '(11) 98765-4321')\n",
      "    \n",
      "\n",
      "    INSERT INTO Clientes (cliente_id, cpf, nome, endereco, cep, email, telefones) VALUES\n",
      "    ('987.654.321-00', 'Ana Costa', 'Avenida Paulista', '45678-910', 'ana.costa@email.com', '(11) 91234-5678')\n",
      "    \n",
      "\n",
      "    INSERT INTO Clientes (cliente_id, cpf, nome, endereco, cep, email, telefones) VALUES\n",
      "    ('456.789.123-45', 'Pedro Souza', 'Rua João Pessoa', '78901-234', 'pedro.souza@email.com', '(21) 99123-4567')\n",
      "    \n",
      "\n",
      "    INSERT INTO Clientes (cliente_id, cpf, nome, endereco, cep, email, telefones) VALUES\n",
      "    ('321.654.987-12', 'Mariana Lima', 'Rua das Acácias', '23456-789', 'mariana.lima@email.com', '(21) 98876-5432')\n",
      "    \n",
      "\n",
      "    INSERT INTO Clientes (cliente_id, cpf, nome, endereco, cep, email, telefones) VALUES\n",
      "    ('654.987.321-00', 'Lucas Almeida', 'Rua 15 de Novembro', '34567-890', 'lucas.almeida@email.com', '(31) 99111-2233')\n",
      "    \n",
      "\n",
      "    INSERT INTO Clientes (cliente_id, cpf, nome, endereco, cep, email, telefones) VALUES\n",
      "    ('213.546.879-11', 'Fernanda Oliveira', 'Av. Brasil', '98765-432', 'fernanda.oliveira@email.com', '(31) 99887-4455')\n",
      "    \n",
      "\n",
      "    INSERT INTO Clientes (cliente_id, cpf, nome, endereco, cep, email, telefones) VALUES\n",
      "    ('543.216.987-32', 'Carlos Pereira', 'Rua do Sol', '65432-123', 'carlos.pereira@email.com', '(41) 99333-2244')\n",
      "    \n",
      "\n",
      "    INSERT INTO Clientes (cliente_id, cpf, nome, endereco, cep, email, telefones) VALUES\n",
      "    ('876.543.210-65', 'Julia Martins', 'Rua da Paz', '12345-678', 'julia.martins@email.com', '(41) 98877-5566')\n",
      "    \n",
      "\n",
      "    INSERT INTO Clientes (cliente_id, cpf, nome, endereco, cep, email, telefones) VALUES\n",
      "    ('234.567.891-23', 'Roberto Costa', 'Rua Rio Branco', '87654-321', 'roberto.costa@email.com', '(51) 99222-3344')\n",
      "    \n",
      "\n",
      "    INSERT INTO Clientes (cliente_id, cpf, nome, endereco, cep, email, telefones) VALUES\n",
      "    ('678.901.234-56', 'Renata Santos', 'Av. Ipiranga', '56789-012', 'renata.santos@email.com', '(51) 99666-7788')\n",
      "    \n"
     ]
    }
   ],
   "source": [
    "for index in range(0,df_clientes.shape[0]):\n",
    "    query=f\"\"\"\n",
    "    INSERT INTO Clientes (cliente_id, cpf, nome, endereco, cep, email, telefones) VALUES\n",
    "    {tuple(df_clientes.iloc[index].values)}\n",
    "    \"\"\"\n",
    "    print(query)"
   ]
  }
 ],
 "metadata": {
  "kernelspec": {
   "display_name": "Python 3",
   "language": "python",
   "name": "python3"
  },
  "language_info": {
   "codemirror_mode": {
    "name": "ipython",
    "version": 3
   },
   "file_extension": ".py",
   "mimetype": "text/x-python",
   "name": "python",
   "nbconvert_exporter": "python",
   "pygments_lexer": "ipython3",
   "version": "3.12.6"
  }
 },
 "nbformat": 4,
 "nbformat_minor": 5
}
