{
 "cells": [
  {
   "cell_type": "code",
   "execution_count": 1,
   "id": "7b7746d2",
   "metadata": {},
   "outputs": [
    {
     "name": "stdout",
     "output_type": "stream",
     "text": [
      "Requirement already satisfied: tqdm in /opt/anaconda3/envs/ro-sci/lib/python3.12/site-packages (from -r ./requirements.txt (line 1)) (4.67.1)\n",
      "Requirement already satisfied: python-dotenv in /opt/anaconda3/envs/ro-sci/lib/python3.12/site-packages (from -r ./requirements.txt (line 2)) (1.0.1)\n",
      "Requirement already satisfied: numpy in /opt/anaconda3/envs/ro-sci/lib/python3.12/site-packages (from -r ./requirements.txt (line 3)) (2.2.3)\n",
      "Requirement already satisfied: cassandra-driver in /opt/anaconda3/envs/ro-sci/lib/python3.12/site-packages (from -r ./requirements.txt (line 4)) (3.29.2)\n",
      "Requirement already satisfied: pymongo in /opt/anaconda3/envs/ro-sci/lib/python3.12/site-packages (from -r ./requirements.txt (line 5)) (4.13.2)\n",
      "Requirement already satisfied: mysql-connector-python in /opt/anaconda3/envs/ro-sci/lib/python3.12/site-packages (from -r ./requirements.txt (line 6)) (9.3.0)\n",
      "Requirement already satisfied: pandas in /opt/anaconda3/envs/ro-sci/lib/python3.12/site-packages (from -r ./requirements.txt (line 7)) (2.2.3)\n",
      "Requirement already satisfied: geomet<0.3,>=0.1 in /opt/anaconda3/envs/ro-sci/lib/python3.12/site-packages (from cassandra-driver->-r ./requirements.txt (line 4)) (0.2.1.post1)\n",
      "Requirement already satisfied: dnspython<3.0.0,>=1.16.0 in /opt/anaconda3/envs/ro-sci/lib/python3.12/site-packages (from pymongo->-r ./requirements.txt (line 5)) (2.7.0)\n",
      "Requirement already satisfied: python-dateutil>=2.8.2 in /Users/rodrigo.antonio/.local/lib/python3.12/site-packages (from pandas->-r ./requirements.txt (line 7)) (2.9.0.post0)\n",
      "Requirement already satisfied: pytz>=2020.1 in /opt/anaconda3/envs/ro-sci/lib/python3.12/site-packages (from pandas->-r ./requirements.txt (line 7)) (2024.1)\n",
      "Requirement already satisfied: tzdata>=2022.7 in /opt/anaconda3/envs/ro-sci/lib/python3.12/site-packages (from pandas->-r ./requirements.txt (line 7)) (2023.3)\n",
      "Requirement already satisfied: click in /opt/anaconda3/envs/ro-sci/lib/python3.12/site-packages (from geomet<0.3,>=0.1->cassandra-driver->-r ./requirements.txt (line 4)) (8.1.8)\n",
      "Requirement already satisfied: six in /Users/rodrigo.antonio/.local/lib/python3.12/site-packages (from geomet<0.3,>=0.1->cassandra-driver->-r ./requirements.txt (line 4)) (1.17.0)\n",
      "\u001b[33mWARNING: Error parsing dependencies of textract: .* suffix can only be used with `==` or `!=` operators\n",
      "    extract-msg (<=0.29.*)\n",
      "                 ~~~~~~~^\u001b[0m\u001b[33m\n",
      "\u001b[0m"
     ]
    }
   ],
   "source": [
    "!pip3 install -r ./requirements.txt"
   ]
  }
 ],
 "metadata": {
  "kernelspec": {
   "display_name": "ro-sci",
   "language": "python",
   "name": "python3"
  },
  "language_info": {
   "codemirror_mode": {
    "name": "ipython",
    "version": 3
   },
   "file_extension": ".py",
   "mimetype": "text/x-python",
   "name": "python",
   "nbconvert_exporter": "python",
   "pygments_lexer": "ipython3",
   "version": "3.12.3"
  }
 },
 "nbformat": 4,
 "nbformat_minor": 5
}
